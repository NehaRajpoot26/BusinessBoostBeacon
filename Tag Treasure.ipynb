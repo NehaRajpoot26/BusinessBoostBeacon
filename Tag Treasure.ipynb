{
 "cells": [
  {
   "cell_type": "code",
   "execution_count": 1,
   "id": "7641e6f3-ca88-4c47-a318-e5092454fb51",
   "metadata": {},
   "outputs": [
    {
     "name": "stdout",
     "output_type": "stream",
     "text": [
      "Post 1: https://www.instagram.com/p/C7ElTItNRsj/\n",
      "Post 2: https://www.instagram.com/p/C7Es4lNIwEz/\n",
      "Post 3: https://www.instagram.com/p/C7zzhwkN3ve/\n"
     ]
    }
   ],
   "source": [
    "from selenium import webdriver\n",
    "from selenium.webdriver.common.by import By\n",
    "from selenium.webdriver.support.ui import WebDriverWait\n",
    "from selenium.webdriver.support import expected_conditions as EC\n",
    "import time\n",
    "import requests\n",
    "import json\n",
    "driver = webdriver.Chrome()\n",
    "\n",
    "driver.get('https://www.instagram.com/')\n",
    "\n",
    "time.sleep(2)\n",
    "# Instagram login credentials\n",
    "username = \"BusinessBoostBeacon\"\n",
    "password = \"business21\"\n",
    "\n",
    "# username = \"neharajpoot5700\"\n",
    "# password = \"Neha2608@#\"\n",
    "\n",
    "# username = \"businessboostbeacon\"\n",
    "# password = \"business21\"\n",
    "\n",
    "# username = \"notebook1300\"\n",
    "# password = \"business21\"\n",
    "username_field = driver.find_element(By.NAME, \"username\")\n",
    "password_field = driver.find_element(By.NAME, \"password\")\n",
    "login_button = driver.find_element(By.TAG_NAME, \"button\")\n",
    "\n",
    "username_field.send_keys(username)\n",
    "password_field.send_keys(password)\n",
    "login_button.click()\n",
    "\n",
    "time.sleep(4)\n",
    "\n",
    "# Function to display first 3 posts of a hashtag\n",
    "def display_hashtag_posts(hashtag):\n",
    "    driver.get(f\"https://www.instagram.com/explore/tags/{hashtag}/\")\n",
    "    time.sleep(5)  # Adjust delay based on your internet speed\n",
    "\n",
    "    try:\n",
    "        # Find the posts\n",
    "        posts = WebDriverWait(driver, 10).until(\n",
    "            EC.presence_of_all_elements_located((By.XPATH, \"//article//a\"))\n",
    "        )\n",
    "\n",
    "        # Display the first 3 posts\n",
    "        for i in range(min(3, len(posts))):\n",
    "            post_url = posts[i].get_attribute(\"href\")\n",
    "            print(f\"Post {i+1}: {post_url}\")\n",
    "\n",
    "    except Exception as e:\n",
    "        print(f\"An error occurred while fetching posts: {e}\")\n",
    "\n",
    "# Main script execution\n",
    "try:\n",
    "    \n",
    "\n",
    "    # Hashtag to search\n",
    "    hashtag = \"vampirediaries\"  # Replace with the hashtag you want to search\n",
    "\n",
    "    # Display first 3 posts of the hashtag\n",
    "    display_hashtag_posts(hashtag)\n",
    "\n",
    "finally:\n",
    "    # Close the browser\n",
    "    driver.quit()"
   ]
  },
  {
   "cell_type": "code",
   "execution_count": null,
   "id": "75df0ef6-c48e-4973-98a8-42e252cc2695",
   "metadata": {},
   "outputs": [],
   "source": []
  }
 ],
 "metadata": {
  "kernelspec": {
   "display_name": "Python 3 (ipykernel)",
   "language": "python",
   "name": "python3"
  },
  "language_info": {
   "codemirror_mode": {
    "name": "ipython",
    "version": 3
   },
   "file_extension": ".py",
   "mimetype": "text/x-python",
   "name": "python",
   "nbconvert_exporter": "python",
   "pygments_lexer": "ipython3",
   "version": "3.11.7"
  }
 },
 "nbformat": 4,
 "nbformat_minor": 5
}
